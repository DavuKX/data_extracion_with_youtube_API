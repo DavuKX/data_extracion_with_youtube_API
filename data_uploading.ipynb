{
 "cells": [
  {
   "cell_type": "markdown",
   "id": "3eb74a1e-d0d1-4b59-b823-a44540bec3b1",
   "metadata": {},
   "source": [
    "# Importing libraries"
   ]
  },
  {
   "cell_type": "code",
   "execution_count": 1,
   "id": "7ddca579-037b-42fd-82bc-376c794bf4d0",
   "metadata": {},
   "outputs": [],
   "source": [
    "import pandas as pd\n",
    "import numpy as np\n",
    "import os\n",
    "import psycopg2"
   ]
  },
  {
   "cell_type": "markdown",
   "id": "e0002058-2c8e-4f3b-becd-07d84b0a5491",
   "metadata": {},
   "source": [
    "# Importing the CSV file"
   ]
  },
  {
   "cell_type": "code",
   "execution_count": 2,
   "id": "8be10c0d-4dec-451d-9e68-a4e51f1397e9",
   "metadata": {},
   "outputs": [],
   "source": [
    "path = os.path.join('dataset', 'youtube_df.csv')\n",
    "df = pd.read_csv(path)"
   ]
  },
  {
   "cell_type": "code",
   "execution_count": 3,
   "id": "1d7318c7-2a07-48cb-85eb-88fad92e6c6c",
   "metadata": {},
   "outputs": [
    {
     "data": {
      "text/html": [
       "<div>\n",
       "<style scoped>\n",
       "    .dataframe tbody tr th:only-of-type {\n",
       "        vertical-align: middle;\n",
       "    }\n",
       "\n",
       "    .dataframe tbody tr th {\n",
       "        vertical-align: top;\n",
       "    }\n",
       "\n",
       "    .dataframe thead th {\n",
       "        text-align: right;\n",
       "    }\n",
       "</style>\n",
       "<table border=\"1\" class=\"dataframe\">\n",
       "  <thead>\n",
       "    <tr style=\"text-align: right;\">\n",
       "      <th></th>\n",
       "      <th>video_id</th>\n",
       "      <th>channelTitle</th>\n",
       "      <th>title</th>\n",
       "      <th>description</th>\n",
       "      <th>publishedAt</th>\n",
       "      <th>viewCount</th>\n",
       "      <th>likeCount</th>\n",
       "      <th>favoriteCount</th>\n",
       "      <th>commentCount</th>\n",
       "      <th>duration</th>\n",
       "      <th>definition</th>\n",
       "      <th>caption</th>\n",
       "    </tr>\n",
       "  </thead>\n",
       "  <tbody>\n",
       "    <tr>\n",
       "      <th>0</th>\n",
       "      <td>AiGUvp-2W1k</td>\n",
       "      <td>Dr. Glaucomflecken</td>\n",
       "      <td>Turnover Time</td>\n",
       "      <td>Surgery’s Worst Nightmare</td>\n",
       "      <td>2022-05-12</td>\n",
       "      <td>294007</td>\n",
       "      <td>16227</td>\n",
       "      <td>0</td>\n",
       "      <td>485</td>\n",
       "      <td>95.0</td>\n",
       "      <td>hd</td>\n",
       "      <td>False</td>\n",
       "    </tr>\n",
       "    <tr>\n",
       "      <th>1</th>\n",
       "      <td>Az-z9xDqihA</td>\n",
       "      <td>Dr. Glaucomflecken</td>\n",
       "      <td>Divide and Conquer</td>\n",
       "      <td>We’re stronger together</td>\n",
       "      <td>2022-05-10</td>\n",
       "      <td>220784</td>\n",
       "      <td>14349</td>\n",
       "      <td>0</td>\n",
       "      <td>639</td>\n",
       "      <td>131.0</td>\n",
       "      <td>hd</td>\n",
       "      <td>False</td>\n",
       "    </tr>\n",
       "    <tr>\n",
       "      <th>2</th>\n",
       "      <td>pw_q1msdLmw</td>\n",
       "      <td>Dr. Glaucomflecken</td>\n",
       "      <td>Don’t Mess With Bill’s Mom</td>\n",
       "      <td>NaN</td>\n",
       "      <td>2022-05-08</td>\n",
       "      <td>1155560</td>\n",
       "      <td>136334</td>\n",
       "      <td>0</td>\n",
       "      <td>1025</td>\n",
       "      <td>59.0</td>\n",
       "      <td>hd</td>\n",
       "      <td>False</td>\n",
       "    </tr>\n",
       "    <tr>\n",
       "      <th>3</th>\n",
       "      <td>Dz4buD7LP9A</td>\n",
       "      <td>Dr. Glaucomflecken</td>\n",
       "      <td>The Ophthalmologist gets COVID</td>\n",
       "      <td>Fortunately, Jonathan is there to help</td>\n",
       "      <td>2022-05-08</td>\n",
       "      <td>235650</td>\n",
       "      <td>12188</td>\n",
       "      <td>0</td>\n",
       "      <td>419</td>\n",
       "      <td>100.0</td>\n",
       "      <td>hd</td>\n",
       "      <td>False</td>\n",
       "    </tr>\n",
       "    <tr>\n",
       "      <th>4</th>\n",
       "      <td>JaQGOaqc4Rw</td>\n",
       "      <td>Dr. Glaucomflecken</td>\n",
       "      <td>Couples Therapy with Anesthesia and Surgery</td>\n",
       "      <td>It’s time to take down the drape</td>\n",
       "      <td>2022-05-01</td>\n",
       "      <td>330272</td>\n",
       "      <td>19025</td>\n",
       "      <td>0</td>\n",
       "      <td>605</td>\n",
       "      <td>116.0</td>\n",
       "      <td>hd</td>\n",
       "      <td>False</td>\n",
       "    </tr>\n",
       "  </tbody>\n",
       "</table>\n",
       "</div>"
      ],
      "text/plain": [
       "      video_id        channelTitle  \\\n",
       "0  AiGUvp-2W1k  Dr. Glaucomflecken   \n",
       "1  Az-z9xDqihA  Dr. Glaucomflecken   \n",
       "2  pw_q1msdLmw  Dr. Glaucomflecken   \n",
       "3  Dz4buD7LP9A  Dr. Glaucomflecken   \n",
       "4  JaQGOaqc4Rw  Dr. Glaucomflecken   \n",
       "\n",
       "                                         title  \\\n",
       "0                                Turnover Time   \n",
       "1                           Divide and Conquer   \n",
       "2                   Don’t Mess With Bill’s Mom   \n",
       "3               The Ophthalmologist gets COVID   \n",
       "4  Couples Therapy with Anesthesia and Surgery   \n",
       "\n",
       "                              description publishedAt  viewCount  likeCount  \\\n",
       "0               Surgery’s Worst Nightmare  2022-05-12     294007      16227   \n",
       "1                 We’re stronger together  2022-05-10     220784      14349   \n",
       "2                                     NaN  2022-05-08    1155560     136334   \n",
       "3  Fortunately, Jonathan is there to help  2022-05-08     235650      12188   \n",
       "4        It’s time to take down the drape  2022-05-01     330272      19025   \n",
       "\n",
       "   favoriteCount  commentCount  duration definition  caption  \n",
       "0              0           485      95.0         hd    False  \n",
       "1              0           639     131.0         hd    False  \n",
       "2              0          1025      59.0         hd    False  \n",
       "3              0           419     100.0         hd    False  \n",
       "4              0           605     116.0         hd    False  "
      ]
     },
     "execution_count": 3,
     "metadata": {},
     "output_type": "execute_result"
    }
   ],
   "source": [
    "df.head()"
   ]
  },
  {
   "cell_type": "markdown",
   "id": "33476d6b-9328-4f4f-8c67-aab5585d1030",
   "metadata": {},
   "source": [
    "# Cleanning the headers name"
   ]
  },
  {
   "cell_type": "code",
   "execution_count": 4,
   "id": "9339e918-18b6-4546-81ab-f281a84ec21b",
   "metadata": {},
   "outputs": [],
   "source": [
    "df.columns = [\"video_id\", \"channel_title\", \"title\", \"description\", \"published_at\",\n",
    "              \"view_count\", \"like_count\",\"favorite_count\", \"comment_count\", \"duration\",\n",
    "              \"definition\", \"caption\"]"
   ]
  },
  {
   "cell_type": "code",
   "execution_count": 5,
   "id": "35f24d9f-188f-4763-873a-60d5e498ddce",
   "metadata": {},
   "outputs": [
    {
     "data": {
      "text/plain": [
       "Index(['video_id', 'channel_title', 'title', 'description', 'published_at',\n",
       "       'view_count', 'like_count', 'favorite_count', 'comment_count',\n",
       "       'duration', 'definition', 'caption'],\n",
       "      dtype='object')"
      ]
     },
     "execution_count": 5,
     "metadata": {},
     "output_type": "execute_result"
    }
   ],
   "source": [
    "df.columns"
   ]
  },
  {
   "cell_type": "markdown",
   "id": "efd96967-2307-4a2d-8d4a-22540362eb06",
   "metadata": {},
   "source": [
    "# Replacing the data types to match the sql data types"
   ]
  },
  {
   "cell_type": "markdown",
   "id": "25ac38d2-8f16-487a-8442-c0e16d78c112",
   "metadata": {},
   "source": [
    "create table youtube_data\n",
    "(\n",
    "    video_id            varchar,\n",
    "    channel_title       varchar,\n",
    "    title               varchar,\n",
    "    descripcion         varchar,\n",
    "    published_at        date,\n",
    "    view_count          integer,\n",
    "    like_count          integer,\n",
    "    favorite_count      integer,\n",
    "    comment_count       integer,\n",
    "    duration            float,\n",
    "    definition          varchar,\n",
    "    caption             boolean,\n",
    "    \n",
    ");"
   ]
  },
  {
   "cell_type": "code",
   "execution_count": 7,
   "id": "0a33bf4b-80c6-4529-932f-a6dcb531ed59",
   "metadata": {},
   "outputs": [
    {
     "data": {
      "text/plain": [
       "video_id           object\n",
       "channel_title      object\n",
       "title              object\n",
       "description        object\n",
       "published_at       object\n",
       "view_count          int64\n",
       "like_count          int64\n",
       "favorite_count      int64\n",
       "comment_count       int64\n",
       "duration          float64\n",
       "definition         object\n",
       "caption              bool\n",
       "dtype: object"
      ]
     },
     "execution_count": 7,
     "metadata": {},
     "output_type": "execute_result"
    }
   ],
   "source": [
    "df.dtypes"
   ]
  },
  {
   "cell_type": "code",
   "execution_count": 8,
   "id": "d481b233-c92f-436d-a0d4-3e6020a01d76",
   "metadata": {},
   "outputs": [
    {
     "data": {
      "text/plain": [
       "{'object': 'varchar',\n",
       " 'int64': 'int',\n",
       " 'float64': 'float',\n",
       " 'bool': 'boolean',\n",
       " 'datetime64': 'timestamp',\n",
       " 'timedelta64[ns]': 'varchar'}"
      ]
     },
     "execution_count": 8,
     "metadata": {},
     "output_type": "execute_result"
    }
   ],
   "source": [
    "replacements = {\n",
    "    'object' : 'varchar',\n",
    "    'int64'  : 'int',\n",
    "    'float64': 'float',\n",
    "    'bool'   : 'boolean',\n",
    "    'datetime64': 'timestamp',\n",
    "    'timedelta64[ns]': 'varchar'\n",
    "}\n",
    "\n",
    "replacements"
   ]
  },
  {
   "cell_type": "code",
   "execution_count": 9,
   "id": "f1d78a90-5e77-4cbd-8d44-00b48c7d8ce3",
   "metadata": {},
   "outputs": [
    {
     "data": {
      "text/plain": [
       "'video_id varchar, channel_title varchar, title varchar, description varchar, published_at varchar, view_count int, like_count int, favorite_count int, comment_count int, duration float, definition varchar, caption boolean'"
      ]
     },
     "execution_count": 9,
     "metadata": {},
     "output_type": "execute_result"
    }
   ],
   "source": [
    "col_str = \", \".join(\"{} {}\".format(n, d) for (n, d) in zip(df.columns, df.dtypes.replace(replacements)))\n",
    "col_str"
   ]
  },
  {
   "cell_type": "markdown",
   "id": "0adc1308-dfcb-4f30-b504-23db1d1672fa",
   "metadata": {},
   "source": [
    "# Open a database connection"
   ]
  },
  {
   "cell_type": "code",
   "execution_count": 18,
   "id": "42fb8cc5-a9ec-4365-b97d-d345b1844f3c",
   "metadata": {},
   "outputs": [
    {
     "name": "stdout",
     "output_type": "stream",
     "text": [
      "Opened database successfully\n"
     ]
    }
   ],
   "source": [
    "conn_str = \"host=ytdb.cmr9yexuysqw.us-east-1.rds.amazonaws.com \\\n",
    "            dbname='postgres' \\\n",
    "            user='Davu' password='abcde12345'\"\n",
    "conn = psycopg2.connect(conn_str)\n",
    "cursor = conn.cursor()\n",
    "print('Opened database successfully')"
   ]
  },
  {
   "cell_type": "code",
   "execution_count": 19,
   "id": "d2ec2433-49ba-4416-b077-ab10267f53ca",
   "metadata": {},
   "outputs": [],
   "source": [
    "#drop table with the same name\n",
    "cursor.execute(\"drop table if exists youtube_data\")"
   ]
  },
  {
   "cell_type": "markdown",
   "id": "91c6b8d6-40ad-4377-b27a-5abca56f78b5",
   "metadata": {},
   "source": [
    "# Creating the table"
   ]
  },
  {
   "cell_type": "code",
   "execution_count": 20,
   "id": "17dddb22-45cd-4d25-833b-b19ddf289544",
   "metadata": {},
   "outputs": [],
   "source": [
    "#create table\n",
    "cursor.execute(\"create table youtube_data \\\n",
    "(video_id varchar,\\\n",
    "channel_title varchar,\\\n",
    "title varchar,\\\n",
    "description varchar,\\\n",
    "published_at varchar,\\\n",
    "view_count int,\\\n",
    "like_count int,\\\n",
    "favorite_count int,\\\n",
    "comment_count int,\\\n",
    "duration float,\\\n",
    "definition varchar,\\\n",
    "caption boolean)\")"
   ]
  },
  {
   "cell_type": "code",
   "execution_count": 21,
   "id": "5e919c63-8a29-4a3a-9dfe-59bf008f1c87",
   "metadata": {},
   "outputs": [
    {
     "name": "stdout",
     "output_type": "stream",
     "text": [
      "file opened in memory\n"
     ]
    }
   ],
   "source": [
    "#insert values to table\n",
    "\n",
    "#save df to csv\n",
    "df.to_csv('dataset/youtube_data.csv', header = df.columns, index=False, encoding='utf-8')\n",
    "\n",
    "#open the csv file and save it as an object \n",
    "my_file = open('dataset/youtube_data.csv', encoding = 'utf-8')\n",
    "print('file opened in memory')"
   ]
  },
  {
   "cell_type": "markdown",
   "id": "a47a6967-6cf4-4b58-bdbe-98381b18da83",
   "metadata": {},
   "source": [
    "# Uploading the data"
   ]
  },
  {
   "cell_type": "code",
   "execution_count": 22,
   "id": "477082ac-28c6-40e0-9233-f158bff33d5f",
   "metadata": {},
   "outputs": [
    {
     "name": "stdout",
     "output_type": "stream",
     "text": [
      "file copied to db\n"
     ]
    }
   ],
   "source": [
    "#upload to db\n",
    "\n",
    "SQL_STATEMENT = \"\"\"\n",
    "COPY youtube_data FROM STDIN WITH\n",
    "    CSV\n",
    "    HEADER\n",
    "    DELIMITER AS ','\n",
    "\n",
    "\"\"\"\n",
    "cursor.copy_expert(sql=SQL_STATEMENT, file = my_file)\n",
    "print('file copied to db')"
   ]
  },
  {
   "cell_type": "code",
   "execution_count": 23,
   "id": "94349a11-5f65-4031-a439-5a03acedf654",
   "metadata": {},
   "outputs": [
    {
     "name": "stdout",
     "output_type": "stream",
     "text": [
      "table youtube_data imported to db completed\n"
     ]
    }
   ],
   "source": [
    "cursor.execute('grant select on table youtube_data to public')\n",
    "conn.commit()\n",
    "\n",
    "cursor.close()\n",
    "print(\"table youtube_data imported to db completed\")"
   ]
  }
 ],
 "metadata": {
  "kernelspec": {
   "display_name": "Python 3 (ipykernel)",
   "language": "python",
   "name": "python3"
  },
  "language_info": {
   "codemirror_mode": {
    "name": "ipython",
    "version": 3
   },
   "file_extension": ".py",
   "mimetype": "text/x-python",
   "name": "python",
   "nbconvert_exporter": "python",
   "pygments_lexer": "ipython3",
   "version": "3.9.7"
  }
 },
 "nbformat": 4,
 "nbformat_minor": 5
}
